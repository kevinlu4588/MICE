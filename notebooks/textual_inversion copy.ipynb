{
 "cells": [
  {
   "cell_type": "code",
   "execution_count": null,
   "id": "c8555b75",
   "metadata": {
    "vscode": {
     "languageId": "plaintext"
    }
   },
   "outputs": [],
   "source": [
    "from diffusers import StableDiffusionPipeline\n",
    "import torch\n",
    "\n",
    "pipeline = StableDiffusionPipeline.from_pretrained(\"/share/u/kevin/erasing/models/30_inpainting_erasure_esd_airliner\", torch_dtype=torch.float16).to(\"cuda\")\n",
    "pipeline.load_textual_inversion(\"/share/u/kevin/erasing/diffusers/examples/textual_inversion/textual_inversion_airliner\")\n",
    "image = pipeline(\"a picture of an <airliner>\", num_inference_steps=50).images[0]\n",
    "image.save(\"cat-train.png\")"
   ]
  },
  {
   "cell_type": "code",
   "execution_count": null,
   "id": "2a19c05e",
   "metadata": {
    "vscode": {
     "languageId": "plaintext"
    }
   },
   "outputs": [],
   "source": []
  }
 ],
 "metadata": {
  "language_info": {
   "name": "python"
  }
 },
 "nbformat": 4,
 "nbformat_minor": 5
}
